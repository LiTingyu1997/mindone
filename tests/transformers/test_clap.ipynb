{
 "cells": [
  {
   "metadata": {
    "ExecuteTime": {
     "end_time": "2024-08-14T17:12:30.446711Z",
     "start_time": "2024-08-14T17:12:28.884032Z"
    }
   },
   "cell_type": "code",
   "source": [
    "from convert_to_safetensors import convert_bin_to_safetensors\n",
    "input_bin_path = \"/home/pingqi/.cache/huggingface/hub/models--laion--clap-htsat-fused/snapshots/cca9e288ab447cee67d9ada1f85ddb46500f1401/pytorch_model.bin\"\n",
    "output_sf_path = \"/home/pingqi/.cache/huggingface/hub/models--laion--clap-htsat-fused/snapshots/cca9e288ab447cee67d9ada1f85ddb46500f1401/model.safetensors\"\n",
    "model_path = \"/home/pingqi/.cache/huggingface/hub/models--laion--clap-htsat-fused/snapshots/cca9e288ab447cee67d9ada1f85ddb46500f1401/\"\n",
    "convert_bin_to_safetensors(input_bin_path, output_sf_path)"
   ],
   "id": "38142c87cb138a7a",
   "outputs": [
    {
     "name": "stderr",
     "output_type": "stream",
     "text": [
      "/mnt/d/mindone/tests/transformers/convert_to_safetensors.py:9: FutureWarning: You are using `torch.load` with `weights_only=False` (the current default value), which uses the default pickle module implicitly. It is possible to construct malicious pickle data which will execute arbitrary code during unpickling (See https://github.com/pytorch/pytorch/blob/main/SECURITY.md#untrusted-models for more details). In a future release, the default value for `weights_only` will be flipped to `True`. This limits the functions that could be executed during unpickling. Arbitrary objects will no longer be allowed to be loaded via this mode unless they are explicitly allowlisted by the user via `torch.serialization.add_safe_globals`. We recommend you start setting `weights_only=True` for any use case where you don't have full control of the loaded file. Please open an issue on GitHub for any issues related to this experimental feature.\n",
      "  state_dict = torch.load(bin_file_path, map_location='cpu')\n"
     ]
    },
    {
     "name": "stdout",
     "output_type": "stream",
     "text": [
      "Successfully converted /home/pingqi/.cache/huggingface/hub/models--laion--clap-htsat-fused/snapshots/cca9e288ab447cee67d9ada1f85ddb46500f1401/pytorch_model.bin to /home/pingqi/.cache/huggingface/hub/models--laion--clap-htsat-fused/snapshots/cca9e288ab447cee67d9ada1f85ddb46500f1401/model.safetensors\n"
     ]
    }
   ],
   "execution_count": 23
  },
  {
   "metadata": {
    "ExecuteTime": {
     "end_time": "2024-08-14T17:05:27.467625Z",
     "start_time": "2024-08-14T17:05:21.563222Z"
    }
   },
   "cell_type": "code",
   "source": [
    "from datasets import load_dataset\n",
    "from transformers import ClapProcessor, ClapModel as pt_ClapModel\n",
    "\n",
    "librispeech_dummy = load_dataset(\"hf-internal-testing/librispeech_asr_dummy\", \"clean\", split=\"validation\")\n",
    "audio_sample = librispeech_dummy[0]\n",
    "\n",
    "pt_model = pt_ClapModel.from_pretrained(\"laion/clap-htsat-fused\")\n",
    "processor = ClapProcessor.from_pretrained(\"laion/clap-htsat-fused\")\n",
    "\n",
    "inputs = processor(audios=audio_sample[\"audio\"][\"array\"], return_tensors=\"pt\")\n",
    "pt_audio_embed = pt_model.get_audio_features(**inputs)"
   ],
   "id": "5db928014a01666",
   "outputs": [
    {
     "name": "stderr",
     "output_type": "stream",
     "text": [
      "It is strongly recommended to pass the `sampling_rate` argument to this function. Failing to do so can result in silent errors that might be hard to debug.\n"
     ]
    }
   ],
   "execution_count": 17
  },
  {
   "metadata": {
    "ExecuteTime": {
     "end_time": "2024-08-14T17:14:25.093385Z",
     "start_time": "2024-08-14T17:14:19.484296Z"
    }
   },
   "cell_type": "code",
   "source": [
    "from datasets import load_dataset\n",
    "from transformers import ClapProcessor\n",
    "from mindone.transformers import ClapModel as ms_ClapModel\n",
    "\n",
    "# The default checkpoint is in .bin format, have to convert it into .safetensors format\n",
    "model_path = \"/home/pingqi/.cache/huggingface/hub/models--laion--clap-htsat-fused/snapshots/cca9e288ab447cee67d9ada1f85ddb46500f1401\"\n",
    "\n",
    "librispeech_dummy = load_dataset(\"hf-internal-testing/librispeech_asr_dummy\", \"clean\", split=\"validation\")\n",
    "audio_sample = librispeech_dummy[0]\n",
    "\n",
    "ms_model = ms_ClapModel.from_pretrained(model_path)\n",
    "processor = ClapProcessor.from_pretrained(model_path)\n",
    "\n",
    "inputs = processor(audios=audio_sample[\"audio\"][\"array\"], return_tensors=\"np\")\n",
    "ms_audio_embed = pt_model.get_audio_features(**inputs)"
   ],
   "id": "1934eac2aa9942e",
   "outputs": [
    {
     "ename": "AttributeError",
     "evalue": "'NoneType' object has no attribute 'startswith'",
     "output_type": "error",
     "traceback": [
      "\u001B[0;31m---------------------------------------------------------------------------\u001B[0m",
      "\u001B[0;31mAttributeError\u001B[0m                            Traceback (most recent call last)",
      "Cell \u001B[0;32mIn[24], line 11\u001B[0m\n\u001B[1;32m      8\u001B[0m librispeech_dummy \u001B[38;5;241m=\u001B[39m load_dataset(\u001B[38;5;124m\"\u001B[39m\u001B[38;5;124mhf-internal-testing/librispeech_asr_dummy\u001B[39m\u001B[38;5;124m\"\u001B[39m, \u001B[38;5;124m\"\u001B[39m\u001B[38;5;124mclean\u001B[39m\u001B[38;5;124m\"\u001B[39m, split\u001B[38;5;241m=\u001B[39m\u001B[38;5;124m\"\u001B[39m\u001B[38;5;124mvalidation\u001B[39m\u001B[38;5;124m\"\u001B[39m)\n\u001B[1;32m      9\u001B[0m audio_sample \u001B[38;5;241m=\u001B[39m librispeech_dummy[\u001B[38;5;241m0\u001B[39m]\n\u001B[0;32m---> 11\u001B[0m ms_model \u001B[38;5;241m=\u001B[39m \u001B[43mms_ClapModel\u001B[49m\u001B[38;5;241;43m.\u001B[39;49m\u001B[43mfrom_pretrained\u001B[49m\u001B[43m(\u001B[49m\u001B[43mmodel_path\u001B[49m\u001B[43m)\u001B[49m\n\u001B[1;32m     12\u001B[0m processor \u001B[38;5;241m=\u001B[39m ClapProcessor\u001B[38;5;241m.\u001B[39mfrom_pretrained(model_path)\n\u001B[1;32m     14\u001B[0m inputs \u001B[38;5;241m=\u001B[39m processor(audios\u001B[38;5;241m=\u001B[39maudio_sample[\u001B[38;5;124m\"\u001B[39m\u001B[38;5;124maudio\u001B[39m\u001B[38;5;124m\"\u001B[39m][\u001B[38;5;124m\"\u001B[39m\u001B[38;5;124marray\u001B[39m\u001B[38;5;124m\"\u001B[39m], return_tensors\u001B[38;5;241m=\u001B[39m\u001B[38;5;124m\"\u001B[39m\u001B[38;5;124mnp\u001B[39m\u001B[38;5;124m\"\u001B[39m)\n",
      "File \u001B[0;32m/mnt/d/mindone/mindone/transformers/modeling_utils.py:1723\u001B[0m, in \u001B[0;36mMSPreTrainedModel.from_pretrained\u001B[0;34m(cls, pretrained_model_name_or_path, config, cache_dir, ignore_mismatched_sizes, force_download, local_files_only, token, revision, use_safetensors, *model_args, **kwargs)\u001B[0m\n\u001B[1;32m   1715\u001B[0m     \u001B[38;5;28;01mraise\u001B[39;00m \u001B[38;5;167;01mNotImplementedError\u001B[39;00m(\u001B[38;5;124m\"\u001B[39m\u001B[38;5;124mloading flax checkpoint in mindspore model is not yet supported.\u001B[39m\u001B[38;5;124m\"\u001B[39m)\n\u001B[1;32m   1716\u001B[0m \u001B[38;5;28;01melif\u001B[39;00m from_pt:\n\u001B[1;32m   1717\u001B[0m     (\n\u001B[1;32m   1718\u001B[0m         model,\n\u001B[1;32m   1719\u001B[0m         missing_keys,\n\u001B[1;32m   1720\u001B[0m         unexpected_keys,\n\u001B[1;32m   1721\u001B[0m         mismatched_keys,\n\u001B[1;32m   1722\u001B[0m         error_msgs,\n\u001B[0;32m-> 1723\u001B[0m     ) \u001B[38;5;241m=\u001B[39m \u001B[38;5;28;43mcls\u001B[39;49m\u001B[38;5;241;43m.\u001B[39;49m\u001B[43m_load_pretrained_model\u001B[49m\u001B[43m(\u001B[49m\n\u001B[1;32m   1724\u001B[0m \u001B[43m        \u001B[49m\u001B[43mmodel\u001B[49m\u001B[43m,\u001B[49m\n\u001B[1;32m   1725\u001B[0m \u001B[43m        \u001B[49m\u001B[43mstate_dict\u001B[49m\u001B[43m,\u001B[49m\n\u001B[1;32m   1726\u001B[0m \u001B[43m        \u001B[49m\u001B[43mloaded_state_dict_keys\u001B[49m\u001B[43m,\u001B[49m\u001B[43m  \u001B[49m\u001B[38;5;66;43;03m# XXX: rename?\u001B[39;49;00m\n\u001B[1;32m   1727\u001B[0m \u001B[43m        \u001B[49m\u001B[43mresolved_archive_file\u001B[49m\u001B[43m,\u001B[49m\n\u001B[1;32m   1728\u001B[0m \u001B[43m        \u001B[49m\u001B[43mpretrained_model_name_or_path\u001B[49m\u001B[43m,\u001B[49m\n\u001B[1;32m   1729\u001B[0m \u001B[43m        \u001B[49m\u001B[43mignore_mismatched_sizes\u001B[49m\u001B[38;5;241;43m=\u001B[39;49m\u001B[43mignore_mismatched_sizes\u001B[49m\u001B[43m,\u001B[49m\n\u001B[1;32m   1730\u001B[0m \u001B[43m        \u001B[49m\u001B[43msharded_metadata\u001B[49m\u001B[38;5;241;43m=\u001B[39;49m\u001B[43msharded_metadata\u001B[49m\u001B[43m,\u001B[49m\n\u001B[1;32m   1731\u001B[0m \u001B[43m        \u001B[49m\u001B[43mdtype\u001B[49m\u001B[38;5;241;43m=\u001B[39;49m\u001B[43mmindspore_dtype\u001B[49m\u001B[43m,\u001B[49m\n\u001B[1;32m   1732\u001B[0m \u001B[43m        \u001B[49m\u001B[43mkeep_in_fp32_modules\u001B[49m\u001B[38;5;241;43m=\u001B[39;49m\u001B[43mkeep_in_fp32_modules\u001B[49m\u001B[43m,\u001B[49m\n\u001B[1;32m   1733\u001B[0m \u001B[43m    \u001B[49m\u001B[43m)\u001B[49m\n\u001B[1;32m   1735\u001B[0m \u001B[38;5;66;03m# Set model in evaluation mode to deactivate DropOut modules by default\u001B[39;00m\n\u001B[1;32m   1736\u001B[0m model\u001B[38;5;241m.\u001B[39mset_train(\u001B[38;5;28;01mFalse\u001B[39;00m)\n",
      "File \u001B[0;32m/mnt/d/mindone/mindone/transformers/modeling_utils.py:1771\u001B[0m, in \u001B[0;36mMSPreTrainedModel._load_pretrained_model\u001B[0;34m(cls, model, state_dict, loaded_keys, resolved_archive_file, pretrained_model_name_or_path, ignore_mismatched_sizes, sharded_metadata, dtype, keep_in_fp32_modules)\u001B[0m\n\u001B[1;32m   1768\u001B[0m original_loaded_keys \u001B[38;5;241m=\u001B[39m loaded_keys\n\u001B[1;32m   1770\u001B[0m \u001B[38;5;28;01mif\u001B[39;00m \u001B[38;5;28mlen\u001B[39m(prefix) \u001B[38;5;241m>\u001B[39m \u001B[38;5;241m0\u001B[39m:\n\u001B[0;32m-> 1771\u001B[0m     has_prefix_module \u001B[38;5;241m=\u001B[39m \u001B[38;5;28;43many\u001B[39;49m\u001B[43m(\u001B[49m\u001B[43ms\u001B[49m\u001B[38;5;241;43m.\u001B[39;49m\u001B[43mstartswith\u001B[49m\u001B[43m(\u001B[49m\u001B[43mprefix\u001B[49m\u001B[43m)\u001B[49m\u001B[43m \u001B[49m\u001B[38;5;28;43;01mfor\u001B[39;49;00m\u001B[43m \u001B[49m\u001B[43ms\u001B[49m\u001B[43m \u001B[49m\u001B[38;5;129;43;01min\u001B[39;49;00m\u001B[43m \u001B[49m\u001B[43mloaded_keys\u001B[49m\u001B[43m)\u001B[49m\n\u001B[1;32m   1772\u001B[0m     expects_prefix_module \u001B[38;5;241m=\u001B[39m \u001B[38;5;28many\u001B[39m(s\u001B[38;5;241m.\u001B[39mstartswith(prefix) \u001B[38;5;28;01mfor\u001B[39;00m s \u001B[38;5;129;01min\u001B[39;00m expected_keys)\n\u001B[1;32m   1773\u001B[0m \u001B[38;5;28;01melse\u001B[39;00m:\n",
      "File \u001B[0;32m/mnt/d/mindone/mindone/transformers/modeling_utils.py:1771\u001B[0m, in \u001B[0;36m<genexpr>\u001B[0;34m(.0)\u001B[0m\n\u001B[1;32m   1768\u001B[0m original_loaded_keys \u001B[38;5;241m=\u001B[39m loaded_keys\n\u001B[1;32m   1770\u001B[0m \u001B[38;5;28;01mif\u001B[39;00m \u001B[38;5;28mlen\u001B[39m(prefix) \u001B[38;5;241m>\u001B[39m \u001B[38;5;241m0\u001B[39m:\n\u001B[0;32m-> 1771\u001B[0m     has_prefix_module \u001B[38;5;241m=\u001B[39m \u001B[38;5;28many\u001B[39m(\u001B[43ms\u001B[49m\u001B[38;5;241;43m.\u001B[39;49m\u001B[43mstartswith\u001B[49m(prefix) \u001B[38;5;28;01mfor\u001B[39;00m s \u001B[38;5;129;01min\u001B[39;00m loaded_keys)\n\u001B[1;32m   1772\u001B[0m     expects_prefix_module \u001B[38;5;241m=\u001B[39m \u001B[38;5;28many\u001B[39m(s\u001B[38;5;241m.\u001B[39mstartswith(prefix) \u001B[38;5;28;01mfor\u001B[39;00m s \u001B[38;5;129;01min\u001B[39;00m expected_keys)\n\u001B[1;32m   1773\u001B[0m \u001B[38;5;28;01melse\u001B[39;00m:\n",
      "\u001B[0;31mAttributeError\u001B[0m: 'NoneType' object has no attribute 'startswith'"
     ]
    }
   ],
   "execution_count": 24
  },
  {
   "metadata": {},
   "cell_type": "code",
   "outputs": [],
   "execution_count": null,
   "source": "print(ms_audio_embed.detach().numpy().size)",
   "id": "57c3ab159f7f4387"
  },
  {
   "metadata": {},
   "cell_type": "code",
   "outputs": [],
   "execution_count": null,
   "source": "",
   "id": "5c90aa0610963a86"
  }
 ],
 "metadata": {
  "kernelspec": {
   "display_name": "Python 3",
   "language": "python",
   "name": "python3"
  },
  "language_info": {
   "codemirror_mode": {
    "name": "ipython",
    "version": 2
   },
   "file_extension": ".py",
   "mimetype": "text/x-python",
   "name": "python",
   "nbconvert_exporter": "python",
   "pygments_lexer": "ipython2",
   "version": "2.7.6"
  }
 },
 "nbformat": 4,
 "nbformat_minor": 5
}
